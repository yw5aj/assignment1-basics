{
 "cells": [
  {
   "cell_type": "markdown",
   "id": "09b69b88",
   "metadata": {},
   "source": [
    "- Q: regarding chr(0)\n",
    "- A: null, shown as '\\x00' in Python, the same with '\\0' in C. When printed, nothing is printed. If we use it to concatenate, it will show as if it does not exist in Python when printed.\n"
   ]
  },
  {
   "cell_type": "code",
   "execution_count": 1,
   "id": "c2269bd8",
   "metadata": {},
   "outputs": [
    {
     "data": {
      "text/plain": [
       "'\\x00'"
      ]
     },
     "execution_count": 1,
     "metadata": {},
     "output_type": "execute_result"
    }
   ],
   "source": [
    "ch = chr(0)\n",
    "ch"
   ]
  },
  {
   "cell_type": "code",
   "execution_count": 2,
   "id": "c878bfa6",
   "metadata": {},
   "outputs": [
    {
     "name": "stdout",
     "output_type": "stream",
     "text": [
      "\u0000\n",
      "test1\u0000test2\n"
     ]
    }
   ],
   "source": [
    "print(ch)\n",
    "print('test1' + ch + 'test2')"
   ]
  },
  {
   "cell_type": "markdown",
   "id": "3d7a8c74",
   "metadata": {},
   "source": [
    "- Q: Why UTF-8 instead of 16 or 32 for our tokenizer?\n",
    "- UTF-8 representations are shorter especially for text with mostly ASCII characters."
   ]
  },
  {
   "cell_type": "code",
   "execution_count": 3,
   "id": "dd876f44",
   "metadata": {},
   "outputs": [
    {
     "name": "stdout",
     "output_type": "stream",
     "text": [
      "b\"\\xe4\\xbd\\xa0\\xe5\\xa5\\xbd\\xe5\\x91\\x80\\xef\\xbc\\x81Let's do a test!\"\n",
      "b\"\\xff\\xfe`O}Y@T\\x01\\xffL\\x00e\\x00t\\x00'\\x00s\\x00 \\x00d\\x00o\\x00 \\x00a\\x00 \\x00t\\x00e\\x00s\\x00t\\x00!\\x00\"\n"
     ]
    }
   ],
   "source": [
    "test_string = \"你好呀！Let's do a test!\"\n",
    "utf8_encoded = test_string.encode('utf-8')\n",
    "utf16_encoded = test_string.encode('utf-16')\n",
    "print(utf8_encoded)\n",
    "print(utf16_encoded)"
   ]
  },
  {
   "cell_type": "code",
   "execution_count": 7,
   "id": "44dfc88b",
   "metadata": {},
   "outputs": [
    {
     "name": "stdout",
     "output_type": "stream",
     "text": [
      "hello\n"
     ]
    },
    {
     "ename": "UnicodeDecodeError",
     "evalue": "'utf-8' codec can't decode byte 0xe6 in position 0: unexpected end of data",
     "output_type": "error",
     "traceback": [
      "\u001b[0;31m---------------------------------------------------------------------------\u001b[0m",
      "\u001b[0;31mUnicodeDecodeError\u001b[0m                        Traceback (most recent call last)",
      "Cell \u001b[0;32mIn[7], line 4\u001b[0m\n\u001b[1;32m      2\u001b[0m     \u001b[38;5;28;01mreturn\u001b[39;00m \u001b[38;5;124m\"\u001b[39m\u001b[38;5;124m\"\u001b[39m\u001b[38;5;241m.\u001b[39mjoin([\u001b[38;5;28mbytes\u001b[39m([b])\u001b[38;5;241m.\u001b[39mdecode(\u001b[38;5;124m\"\u001b[39m\u001b[38;5;124mutf-8\u001b[39m\u001b[38;5;124m\"\u001b[39m) \u001b[38;5;28;01mfor\u001b[39;00m b \u001b[38;5;129;01min\u001b[39;00m bytestring])\n\u001b[1;32m      3\u001b[0m \u001b[38;5;28mprint\u001b[39m(decode_utf8_bytes_to_str_wrong(\u001b[38;5;124m\"\u001b[39m\u001b[38;5;124mhello\u001b[39m\u001b[38;5;124m\"\u001b[39m\u001b[38;5;241m.\u001b[39mencode(\u001b[38;5;124m\"\u001b[39m\u001b[38;5;124mutf-8\u001b[39m\u001b[38;5;124m\"\u001b[39m)))\n\u001b[0;32m----> 4\u001b[0m \u001b[38;5;28mprint\u001b[39m(\u001b[43mdecode_utf8_bytes_to_str_wrong\u001b[49m\u001b[43m(\u001b[49m\u001b[38;5;124;43m\"\u001b[39;49m\u001b[38;5;124;43m换个语言test\u001b[39;49m\u001b[38;5;124;43m\"\u001b[39;49m\u001b[38;5;241;43m.\u001b[39;49m\u001b[43mencode\u001b[49m\u001b[43m(\u001b[49m\u001b[38;5;124;43m\"\u001b[39;49m\u001b[38;5;124;43mutf-8\u001b[39;49m\u001b[38;5;124;43m\"\u001b[39;49m\u001b[43m)\u001b[49m\u001b[43m)\u001b[49m)\n",
      "Cell \u001b[0;32mIn[7], line 2\u001b[0m, in \u001b[0;36mdecode_utf8_bytes_to_str_wrong\u001b[0;34m(bytestring)\u001b[0m\n\u001b[1;32m      1\u001b[0m \u001b[38;5;28;01mdef\u001b[39;00m \u001b[38;5;21mdecode_utf8_bytes_to_str_wrong\u001b[39m(bytestring: \u001b[38;5;28mbytes\u001b[39m):\n\u001b[0;32m----> 2\u001b[0m     \u001b[38;5;28;01mreturn\u001b[39;00m \u001b[38;5;124m\"\u001b[39m\u001b[38;5;124m\"\u001b[39m\u001b[38;5;241m.\u001b[39mjoin([\u001b[38;5;28;43mbytes\u001b[39;49m\u001b[43m(\u001b[49m\u001b[43m[\u001b[49m\u001b[43mb\u001b[49m\u001b[43m]\u001b[49m\u001b[43m)\u001b[49m\u001b[38;5;241;43m.\u001b[39;49m\u001b[43mdecode\u001b[49m\u001b[43m(\u001b[49m\u001b[38;5;124;43m\"\u001b[39;49m\u001b[38;5;124;43mutf-8\u001b[39;49m\u001b[38;5;124;43m\"\u001b[39;49m\u001b[43m)\u001b[49m \u001b[38;5;28;01mfor\u001b[39;00m b \u001b[38;5;129;01min\u001b[39;00m bytestring])\n",
      "\u001b[0;31mUnicodeDecodeError\u001b[0m: 'utf-8' codec can't decode byte 0xe6 in position 0: unexpected end of data"
     ]
    }
   ],
   "source": [
    "def decode_utf8_bytes_to_str_wrong(bytestring: bytes):\n",
    "    return \"\".join([bytes([b]).decode(\"utf-8\") for b in bytestring])\n",
    "print(decode_utf8_bytes_to_str_wrong(\"hello\".encode(\"utf-8\")))\n",
    "print(decode_utf8_bytes_to_str_wrong(\"换个语言test\".encode(\"utf-8\")))\n",
    "\n",
    "# Explanation: for non-ASCII characters, each byte is treated as a separate character,\n",
    "# which leads to incorrect decoding.\n"
   ]
  },
  {
   "cell_type": "code",
   "execution_count": 8,
   "id": "6337bd99",
   "metadata": {},
   "outputs": [
    {
     "name": "stdout",
     "output_type": "stream",
     "text": [
      "\n"
     ]
    }
   ],
   "source": [
    "invalid_bytes = b'\\xff\\xff'\n",
    "print(invalid_bytes.decode('utf-8', errors='ignore'))  # This will ignore invalid bytes\n",
    "\n",
    "# This is invalid because the first byte is beyond the valid UTF-8 range.\n",
    "# The second byte is also invalid in UTF-8."
   ]
  },
  {
   "cell_type": "code",
   "execution_count": null,
   "id": "534c7936",
   "metadata": {},
   "outputs": [],
   "source": []
  }
 ],
 "metadata": {
  "kernelspec": {
   "display_name": "base",
   "language": "python",
   "name": "python3"
  },
  "language_info": {
   "codemirror_mode": {
    "name": "ipython",
    "version": 3
   },
   "file_extension": ".py",
   "mimetype": "text/x-python",
   "name": "python",
   "nbconvert_exporter": "python",
   "pygments_lexer": "ipython3",
   "version": "3.12.7"
  }
 },
 "nbformat": 4,
 "nbformat_minor": 5
}
